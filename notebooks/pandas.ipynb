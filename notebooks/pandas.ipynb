{
 "cells": [
  {
   "cell_type": "code",
   "execution_count": 5,
   "metadata": {},
   "outputs": [],
   "source": [
    "import pandas as pd\n",
    "import numpy as np\n",
    "\n",
    "# Load the dataset\n",
    "data = pd.read_csv('../troop_movements.csv')"
   ]
  },
  {
   "cell_type": "code",
   "execution_count": 8,
   "metadata": {},
   "outputs": [
    {
     "name": "stdout",
     "output_type": "stream",
     "text": [
      "First few rows of the DataFrame:\n",
      "               timestamp  unit_id           unit_type empire_or_resistance  \\\n",
      "0    2024-07-11 10:35:30        1         tie_fighter               empire   \n",
      "1    2024-07-11 10:35:29        2              x-wing               empire   \n",
      "2    2024-07-11 10:35:28        3  resistance_soldier           resistance   \n",
      "3    2024-07-11 10:35:27        4         tie_fighter           resistance   \n",
      "4    2024-07-11 10:35:26        5               at-at           resistance   \n",
      "..                   ...      ...                 ...                  ...   \n",
      "995  2024-07-11 10:18:55      996              x-wing           resistance   \n",
      "996  2024-07-11 10:18:54      997         tie_fighter               empire   \n",
      "997  2024-07-11 10:18:53      998        tie_silencer               empire   \n",
      "998  2024-07-11 10:18:52      999  resistance_soldier           resistance   \n",
      "999  2024-07-11 10:18:51     1000  resistance_soldier               empire   \n",
      "\n",
      "     location_x  location_y  destination_x  destination_y   homeworld  \n",
      "0             5           9              7              3     Troiken  \n",
      "1            10           7              1              4       Kalee  \n",
      "2             9           3              5              8    Champala  \n",
      "3             5           3              1              2  Bestine IV  \n",
      "4            10          10              3              7    Champala  \n",
      "..          ...         ...            ...            ...         ...  \n",
      "995           7           2              3              8     Dagobah  \n",
      "996           3           2              9              1     Vulpter  \n",
      "997           3           9              1              5    Toydaria  \n",
      "998           6           5             10              5       Zolan  \n",
      "999           5           3             10              5       Cerea  \n",
      "\n",
      "[1000 rows x 9 columns]\n"
     ]
    }
   ],
   "source": [
    "# Display the first few rows of the DataFrame\n",
    "print(\"First few rows of the DataFrame:\")\n",
    "print(data.head())"
   ]
  },
  {
   "cell_type": "code",
   "execution_count": 27,
   "metadata": {},
   "outputs": [
    {
     "name": "stdout",
     "output_type": "stream",
     "text": [
      "  empire_or_resistance  count\n",
      "0               empire    502\n",
      "1           resistance    498\n"
     ]
    }
   ],
   "source": [
    "grouped_factions = data.groupby('empire_or_resistance').size().reset_index(name=\"count\")\n",
    "print(grouped_factions)"
   ]
  },
  {
   "cell_type": "code",
   "execution_count": 28,
   "metadata": {},
   "outputs": [
    {
     "name": "stdout",
     "output_type": "stream",
     "text": [
      "       homeworld  count\n",
      "0       Alderaan     21\n",
      "1    Aleen Minor     15\n",
      "2     Bestine IV     19\n",
      "3          Cerea     30\n",
      "4       Champala     17\n",
      "5      Chandrila     29\n",
      "6   Concord Dawn     27\n",
      "7       Corellia     22\n",
      "8        Dagobah     29\n",
      "9       Dathomir     28\n",
      "10         Dorin     27\n",
      "11        Eriadu     23\n",
      "12   Glee Anselm     25\n",
      "13    Haruun Kal     22\n",
      "14       Iktotch     27\n",
      "15      Iridonia     28\n",
      "16         Kalee     37\n",
      "17      Kashyyyk     24\n",
      "18     Malastare     22\n",
      "19        Mirial     29\n",
      "20      Mon Cala     24\n",
      "21    Muunilinst     22\n",
      "22         Naboo     21\n",
      "23          Ojom     26\n",
      "24       Quermia     18\n",
      "25         Rodia     18\n",
      "26        Ryloth     22\n",
      "27       Serenno     22\n",
      "28         Shili     23\n",
      "29         Skako     21\n",
      "30       Socorro     23\n",
      "31       Stewjon     27\n",
      "32       Sullust     31\n",
      "33      Tatooine     25\n",
      "34       Tholoth     25\n",
      "35      Toydaria     20\n",
      "36     Trandosha     26\n",
      "37       Troiken     18\n",
      "38          Tund     22\n",
      "39        Umbara     23\n",
      "40       Vulpter     18\n",
      "41         Zolan     24\n"
     ]
    }
   ],
   "source": [
    "grouped_homeworlds = data.groupby('homeworld').size().reset_index(name=\"count\")\n",
    "print(grouped_homeworlds)"
   ]
  },
  {
   "cell_type": "code",
   "execution_count": 29,
   "metadata": {},
   "outputs": [
    {
     "name": "stdout",
     "output_type": "stream",
     "text": [
      "            unit_type  count\n",
      "0               at-at    120\n",
      "1               at-st    142\n",
      "2  resistance_soldier    145\n",
      "3        stormtrooper    121\n",
      "4         tie_fighter    117\n",
      "5        tie_silencer    118\n",
      "6             unknown    122\n",
      "7              x-wing    115\n"
     ]
    }
   ],
   "source": [
    "grouped_units = data.groupby('unit_type').size().reset_index(name=\"count\")\n",
    "print(grouped_units)"
   ]
  },
  {
   "cell_type": "code",
   "execution_count": 30,
   "metadata": {},
   "outputs": [
    {
     "name": "stdout",
     "output_type": "stream",
     "text": [
      "             timestamp  unit_id           unit_type empire_or_resistance  \\\n",
      "0  2024-07-11 10:35:30        1         tie_fighter               empire   \n",
      "1  2024-07-11 10:35:29        2              x-wing               empire   \n",
      "2  2024-07-11 10:35:28        3  resistance_soldier           resistance   \n",
      "3  2024-07-11 10:35:27        4         tie_fighter           resistance   \n",
      "4  2024-07-11 10:35:26        5               at-at           resistance   \n",
      "\n",
      "   location_x  location_y  destination_x  destination_y   homeworld  \\\n",
      "0           5           9              7              3     Troiken   \n",
      "1          10           7              1              4       Kalee   \n",
      "2           9           3              5              8    Champala   \n",
      "3           5           3              1              2  Bestine IV   \n",
      "4          10          10              3              7    Champala   \n",
      "\n",
      "   is_resistance  \n",
      "0          False  \n",
      "1          False  \n",
      "2           True  \n",
      "3           True  \n",
      "4           True  \n"
     ]
    }
   ],
   "source": [
    "# Adding a new column for resistance boolean\n",
    "data['is_resistance'] = data['empire_or_resistance'] == 'resistance'\n",
    "print(data.head())"
   ]
  },
  {
   "cell_type": "code",
   "execution_count": 31,
   "metadata": {},
   "outputs": [
    {
     "name": "stdout",
     "output_type": "stream",
     "text": [
      "Defaulting to user installation because normal site-packages is not writeable"
     ]
    },
    {
     "name": "stderr",
     "output_type": "stream",
     "text": [
      "\n",
      "[notice] A new release of pip is available: 24.0 -> 24.1.2\n",
      "[notice] To update, run: python.exe -m pip install --upgrade pip\n"
     ]
    },
    {
     "name": "stdout",
     "output_type": "stream",
     "text": [
      "\n",
      "Requirement already satisfied: seaborn in c:\\users\\wasadmin\\appdata\\roaming\\python\\python312\\site-packages (0.13.2)\n",
      "Requirement already satisfied: numpy!=1.24.0,>=1.20 in c:\\users\\wasadmin\\appdata\\roaming\\python\\python312\\site-packages (from seaborn) (1.26.4)\n",
      "Requirement already satisfied: pandas>=1.2 in c:\\users\\wasadmin\\appdata\\roaming\\python\\python312\\site-packages (from seaborn) (2.2.2)\n",
      "Requirement already satisfied: matplotlib!=3.6.1,>=3.4 in c:\\users\\wasadmin\\appdata\\roaming\\python\\python312\\site-packages (from seaborn) (3.9.1)\n",
      "Requirement already satisfied: contourpy>=1.0.1 in c:\\users\\wasadmin\\appdata\\roaming\\python\\python312\\site-packages (from matplotlib!=3.6.1,>=3.4->seaborn) (1.2.1)\n",
      "Requirement already satisfied: cycler>=0.10 in c:\\users\\wasadmin\\appdata\\roaming\\python\\python312\\site-packages (from matplotlib!=3.6.1,>=3.4->seaborn) (0.12.1)\n",
      "Requirement already satisfied: fonttools>=4.22.0 in c:\\users\\wasadmin\\appdata\\roaming\\python\\python312\\site-packages (from matplotlib!=3.6.1,>=3.4->seaborn) (4.53.1)\n",
      "Requirement already satisfied: kiwisolver>=1.3.1 in c:\\users\\wasadmin\\appdata\\roaming\\python\\python312\\site-packages (from matplotlib!=3.6.1,>=3.4->seaborn) (1.4.5)\n",
      "Requirement already satisfied: packaging>=20.0 in c:\\users\\wasadmin\\appdata\\roaming\\python\\python312\\site-packages (from matplotlib!=3.6.1,>=3.4->seaborn) (24.0)\n",
      "Requirement already satisfied: pillow>=8 in c:\\users\\wasadmin\\appdata\\roaming\\python\\python312\\site-packages (from matplotlib!=3.6.1,>=3.4->seaborn) (10.4.0)\n",
      "Requirement already satisfied: pyparsing>=2.3.1 in c:\\users\\wasadmin\\appdata\\roaming\\python\\python312\\site-packages (from matplotlib!=3.6.1,>=3.4->seaborn) (3.1.2)\n",
      "Requirement already satisfied: python-dateutil>=2.7 in c:\\users\\wasadmin\\appdata\\roaming\\python\\python312\\site-packages (from matplotlib!=3.6.1,>=3.4->seaborn) (2.9.0.post0)\n",
      "Requirement already satisfied: pytz>=2020.1 in c:\\users\\wasadmin\\appdata\\roaming\\python\\python312\\site-packages (from pandas>=1.2->seaborn) (2024.1)\n",
      "Requirement already satisfied: tzdata>=2022.7 in c:\\users\\wasadmin\\appdata\\roaming\\python\\python312\\site-packages (from pandas>=1.2->seaborn) (2024.1)\n",
      "Requirement already satisfied: six>=1.5 in c:\\users\\wasadmin\\appdata\\roaming\\python\\python312\\site-packages (from python-dateutil>=2.7->matplotlib!=3.6.1,>=3.4->seaborn) (1.16.0)\n"
     ]
    }
   ],
   "source": [
    "! pip install seaborn"
   ]
  },
  {
   "cell_type": "code",
   "execution_count": 45,
   "metadata": {},
   "outputs": [
    {
     "data": {
      "text/plain": [
       "Text(0.5, 0, 'Empire or Resistance')"
      ]
     },
     "execution_count": 45,
     "metadata": {},
     "output_type": "execute_result"
    },
    {
     "data": {
      "image/png": "[encoded data removed]",
      "text/plain": [
       "<Figure size 640x480 with 1 Axes>"
      ]
     },
     "metadata": {},
     "output_type": "display_data"
    }
   ],
   "source": [
    "import seaborn as sns\n",
    "import matplotlib.pyplot as plt\n",
    "\n",
    "sns.set_theme(style=\"whitegrid\")\n",
    "\n",
    "# sns.barplot(data['empire_or_resistance'], color='skyblue') #histplot(data['Age'], kde=False, bins=20, color='skyblue')\n",
    "sns.barplot(grouped_factions, x = \"empire_or_resistance\", y = \"count\").set(title=\"Character Count by Empire or Resistance\")\n",
    "plt.ylabel(\"Count\")\n",
    "plt.xlabel(\"Empire or Resistance\")"
   ]
  }
 ],
 "metadata": {
  "kernelspec": {
   "display_name": "Python 3",
   "language": "python",
   "name": "python3"
  },
  "language_info": {
   "codemirror_mode": {
    "name": "ipython",
    "version": 3
   },
   "file_extension": ".py",
   "mimetype": "text/x-python",
   "name": "python",
   "nbconvert_exporter": "python",
   "pygments_lexer": "ipython3",
   "version": "3.12.3"
  }
 },
 "nbformat": 4,
 "nbformat_minor": 2
}
